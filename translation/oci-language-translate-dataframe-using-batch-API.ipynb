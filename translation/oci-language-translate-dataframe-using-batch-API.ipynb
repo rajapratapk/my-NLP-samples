{
 "cells": [
  {
   "cell_type": "code",
   "execution_count": 1,
   "metadata": {},
   "outputs": [],
   "source": [
    "import pandas as pd\n",
    "import oci"
   ]
  },
  {
   "cell_type": "code",
   "execution_count": 3,
   "metadata": {},
   "outputs": [],
   "source": [
    "def batch_generator(df, text_column_name, max_char_per_batch=20000, max_docs_per_batch=100):\n",
    "\n",
    "    batch  = []\n",
    "    total_len = 0\n",
    "    for index, row in df.iterrows():\n",
    "        if len(batch) < max_docs_per_batch and total_len < max_char_per_batch:\n",
    "            batch.append(index)\n",
    "            total_len += len(row[text_column_name])\n",
    "        else:\n",
    "            yield batch\n",
    "            batch = []\n",
    "            total_len = 0"
   ]
  },
  {
   "cell_type": "code",
   "execution_count": 4,
   "metadata": {},
   "outputs": [],
   "source": [
    "def translate_batch(source_docs, ai_language_client, target, source=\"auto\", compartment_id=None):\n",
    "    \n",
    "    documents = []\n",
    "    \n",
    "    for item in source_docs:\n",
    "        documents.append(oci.ai_language.models.TextDocument(\n",
    "                key=str(item[0]),\n",
    "                text=item[1],\n",
    "                language_code=source))\n",
    "\n",
    "    batch_language_translation_details=oci.ai_language.models.BatchLanguageTranslationDetails(\n",
    "        documents=documents,\n",
    "        compartment_id=compartment_id,\n",
    "        target_language_code=target)\n",
    "    \n",
    "    batch_language_translation_response = ai_language_client.batch_language_translation(batch_language_translation_details)\n",
    "    \n",
    "    return batch_language_translation_response.data"
   ]
  },
  {
   "cell_type": "code",
   "execution_count": 15,
   "metadata": {},
   "outputs": [],
   "source": [
    "def process_translation_response(response, target_df, result_column):\n",
    "    idx = []\n",
    "    output = []\n",
    "    for d in response.documents:\n",
    "        idx.append(int(d.key))\n",
    "        output.append(d.translated_text)\n",
    "    target_df.loc[idx, result_column] = output"
   ]
  },
  {
   "cell_type": "code",
   "execution_count": 16,
   "metadata": {},
   "outputs": [],
   "source": [
    "\n",
    "#OCI LANGUAGE HARD LIMITS\n",
    "MAX_CHAR_PER_BATCH = 20000\n",
    "MAX_DOC_PER_BATCH=100\n",
    "\n",
    "def translate_dataframe(df_source, source_column, df_target, target_column, source_lang, target_lang, ai_language_client, compartment_id=None):\n",
    "    \n",
    "    batch_gen = batch_generator(df_source, source_column, max_char_per_batch=MAX_CHAR_PER_BATCH, max_docs_per_batch=MAX_DOC_PER_BATCH)\n",
    "    \n",
    "    for batch_idx in batch_gen:\n",
    "        print(f'processing row {batch_idx[0]}:{batch_idx[-1]}')\n",
    "        source_text = df.iloc[batch_idx][source_column]\n",
    "        batch_docs = zip(batch_idx, source_text)\n",
    "        \n",
    "        results = translate_batch(batch_docs, ai_language_client, target_lang, source_lang, compartment_id)\n",
    "        process_translation_response(results, df_target, target_column)"
   ]
  },
  {
   "cell_type": "markdown",
   "metadata": {},
   "source": [
    "# Initialize OCI Langauge Client\n",
    "* Ensure you follow pre-requisites to install OCI SDK and setup API key as described in below link *\n",
    "<br>\n",
    "OCI Language Live Lab below, LAB-1, TASK-2"
   ]
  },
  {
   "cell_type": "markdown",
   "metadata": {},
   "source": [
    "https://apexapps.oracle.com/pls/apex/r/dbpm/livelabs/run-workshop?p210_wid=887&p210_wec=&session=17376605285617"
   ]
  },
  {
   "cell_type": "code",
   "execution_count": 21,
   "metadata": {},
   "outputs": [],
   "source": [
    "config = oci.config.from_file()\n",
    "ai_language_client = oci.ai_language.AIServiceLanguageClient(config)\n",
    "ai_language_client.base_client.timeout = 300 #required to process for large batch sizes"
   ]
  },
  {
   "cell_type": "markdown",
   "metadata": {},
   "source": [
    "# Reading and translating a csv file\n",
    "Ensure you modify the csv file name, source column where the text resides"
   ]
  },
  {
   "cell_type": "code",
   "execution_count": 25,
   "metadata": {},
   "outputs": [
    {
     "name": "stdout",
     "output_type": "stream",
     "text": [
      "processing row 0:99\n",
      "processing row 101:200\n",
      "processing row 202:301\n",
      "processing row 303:402\n",
      "processing row 404:503\n",
      "processing row 505:604\n",
      "processing row 606:705\n",
      "processing row 707:806\n",
      "processing row 808:907\n",
      "processing row 909:1008\n",
      "processing row 1010:1109\n",
      "processing row 1111:1210\n",
      "processing row 1212:1311\n",
      "processing row 1313:1412\n",
      "processing row 1414:1513\n",
      "processing row 1515:1614\n",
      "processing row 1616:1715\n",
      "processing row 1717:1816\n",
      "processing row 1818:1917\n"
     ]
    }
   ],
   "source": [
    "df = pd.read_csv(\"mydata.csv\")\n",
    "source_column = 'source'\n",
    "result_column = 'result'\n",
    "\n",
    "df_result = df.copy()\n",
    "df_result['result'] = None\n",
    "\n",
    "translate_dataframe(df, source_column, df_result, result_column, 'en', 'es', ai_language_client, None)\n"
   ]
  },
  {
   "cell_type": "code",
   "execution_count": null,
   "metadata": {},
   "outputs": [],
   "source": [
    "df_result.head()"
   ]
  }
 ],
 "metadata": {
  "kernelspec": {
   "display_name": "Python 3 (ipykernel)",
   "language": "python",
   "name": "python3"
  },
  "language_info": {
   "codemirror_mode": {
    "name": "ipython",
    "version": 3
   },
   "file_extension": ".py",
   "mimetype": "text/x-python",
   "name": "python",
   "nbconvert_exporter": "python",
   "pygments_lexer": "ipython3",
   "version": "3.10.2"
  }
 },
 "nbformat": 4,
 "nbformat_minor": 4
}
