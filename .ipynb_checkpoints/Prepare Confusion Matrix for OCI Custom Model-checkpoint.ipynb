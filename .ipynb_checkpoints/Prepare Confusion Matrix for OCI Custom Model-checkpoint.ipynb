{
 "cells": [
  {
   "cell_type": "code",
   "execution_count": 1,
   "id": "61358169",
   "metadata": {},
   "outputs": [],
   "source": [
    "import oci\n",
    "import pandas as pd"
   ]
  },
  {
   "cell_type": "code",
   "execution_count": 2,
   "id": "b15a2246",
   "metadata": {},
   "outputs": [],
   "source": [
    "ai_client = oci.ai_language.AIServiceLanguageClient(oci.config.from_file(profile_name='OCASCUST'))"
   ]
  },
  {
   "cell_type": "code",
   "execution_count": 4,
   "id": "ace12ea1",
   "metadata": {},
   "outputs": [],
   "source": [
    "model = 'ocid1.ailanguagemodel.oc1.phx.amaaaaaasxs7gpyan6pg4qwmq4ydazqwlprsxd7rv2r57rupy6hmlw3oci4q'"
   ]
  },
  {
   "cell_type": "code",
   "execution_count": 5,
   "id": "e07f948a",
   "metadata": {},
   "outputs": [],
   "source": [
    "resp = ai_client.get_model(model)"
   ]
  },
  {
   "cell_type": "code",
   "execution_count": 18,
   "id": "ad8e5bbf",
   "metadata": {},
   "outputs": [],
   "source": [
    "cm = {x:resp.data.evaluation_results.confusion_matrix[x].matrix for x in resp.data.evaluation_results.confusion_matrix.keys()}"
   ]
  },
  {
   "cell_type": "code",
   "execution_count": 23,
   "id": "59eaae82",
   "metadata": {},
   "outputs": [],
   "source": [
    "pd.DataFrame(cm).sort_index().sort_index(axis=1).to_csv('confusion_matrix.csv')"
   ]
  },
  {
   "cell_type": "code",
   "execution_count": null,
   "id": "d1ad91e2",
   "metadata": {},
   "outputs": [],
   "source": []
  }
 ],
 "metadata": {
  "kernelspec": {
   "display_name": "Python 3 (ipykernel)",
   "language": "python",
   "name": "python3"
  },
  "language_info": {
   "codemirror_mode": {
    "name": "ipython",
    "version": 3
   },
   "file_extension": ".py",
   "mimetype": "text/x-python",
   "name": "python",
   "nbconvert_exporter": "python",
   "pygments_lexer": "ipython3",
   "version": "3.10.2"
  }
 },
 "nbformat": 4,
 "nbformat_minor": 5
}
